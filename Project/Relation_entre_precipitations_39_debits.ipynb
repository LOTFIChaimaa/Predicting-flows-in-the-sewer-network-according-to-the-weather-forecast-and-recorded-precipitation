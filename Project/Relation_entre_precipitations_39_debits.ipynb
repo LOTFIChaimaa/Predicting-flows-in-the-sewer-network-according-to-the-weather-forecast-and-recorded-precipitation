{
 "cells": [
  {
   "cell_type": "markdown",
   "metadata": {},
   "source": [
    "# Projet : Prédiction des débits dans le réseau d’égouts en fonction des prévisions météorologiques et des précipitations enregistrées \n",
    "\n",
    "___\n",
    "\n",
    "\n",
    "L'objectif de ce projet est Établir le lien entre les débits aux régulateurs en fonction des précipitations \n",
    "enregistrées aux 51 stations pluviométriques réparties sur l’île de Montréal et les prévisions météorologiques.\n",
    "\n",
    "\n",
    "### Sommaire:\n",
    "___\n",
    "\n",
    "**[I.Importer le Dataset(les débits et les précipitations) et le diviser en un vecteur y et une matrice X](#section_I)**   \n",
    "**[II.Entraînement d'un MLP(Perceptron multicouche)](#section_II)**  \n",
    "  [II.1. Le modéle choisi](#section_II.1)   \n",
    "  [II.2. Fonction de perte](#section_II.2)  \n",
    "**[III.Résultat sur toute la base de données de test](#section_III)**  \n",
    "**[IV. Prediction, Comparaison entre modele observé et prédit](#section_IV)**  \n",
    "  [IV.1. Méthode 1: Coefficient d'efficacité de Nash–Sutcliffe](#section_IV.1)  \n",
    "  [IV.2. Méthode 2: L'erreur relative](#section_IV.2)   \n",
    "**[VI. Références](#section_VI)**  \n",
    "\n",
    "\n",
    "\n",
    "\n"
   ]
  },
  {
   "cell_type": "markdown",
   "metadata": {},
   "source": [
    "<a id=\"section_I\"></a>\n",
    "### I. Importer le Dataset(les débits et les précipitations) et le diviser en un vecteur y et une matrice X\n",
    "___\n",
    "la bibliothéque tensorflow implémente des méthodes d’apprentissage automatique basées sur le principe des réseaux de neurones profonds.\n",
    "keras : encapsule l’accès aux fonctions proposées par plusieurs librairies de machine learning, en particulier Tensorflow."
   ]
  },
  {
   "cell_type": "code",
   "execution_count": 1,
   "metadata": {},
   "outputs": [
    {
     "name": "stderr",
     "output_type": "stream",
     "text": [
      "C:\\Users\\Lotfi\\anaconda3\\lib\\site-packages\\tensorflow\\python\\framework\\dtypes.py:516: FutureWarning: Passing (type, 1) or '1type' as a synonym of type is deprecated; in a future version of numpy, it will be understood as (type, (1,)) / '(1,)type'.\n",
      "  _np_qint8 = np.dtype([(\"qint8\", np.int8, 1)])\n",
      "C:\\Users\\Lotfi\\anaconda3\\lib\\site-packages\\tensorflow\\python\\framework\\dtypes.py:517: FutureWarning: Passing (type, 1) or '1type' as a synonym of type is deprecated; in a future version of numpy, it will be understood as (type, (1,)) / '(1,)type'.\n",
      "  _np_quint8 = np.dtype([(\"quint8\", np.uint8, 1)])\n",
      "C:\\Users\\Lotfi\\anaconda3\\lib\\site-packages\\tensorflow\\python\\framework\\dtypes.py:518: FutureWarning: Passing (type, 1) or '1type' as a synonym of type is deprecated; in a future version of numpy, it will be understood as (type, (1,)) / '(1,)type'.\n",
      "  _np_qint16 = np.dtype([(\"qint16\", np.int16, 1)])\n",
      "C:\\Users\\Lotfi\\anaconda3\\lib\\site-packages\\tensorflow\\python\\framework\\dtypes.py:519: FutureWarning: Passing (type, 1) or '1type' as a synonym of type is deprecated; in a future version of numpy, it will be understood as (type, (1,)) / '(1,)type'.\n",
      "  _np_quint16 = np.dtype([(\"quint16\", np.uint16, 1)])\n",
      "C:\\Users\\Lotfi\\anaconda3\\lib\\site-packages\\tensorflow\\python\\framework\\dtypes.py:520: FutureWarning: Passing (type, 1) or '1type' as a synonym of type is deprecated; in a future version of numpy, it will be understood as (type, (1,)) / '(1,)type'.\n",
      "  _np_qint32 = np.dtype([(\"qint32\", np.int32, 1)])\n",
      "C:\\Users\\Lotfi\\anaconda3\\lib\\site-packages\\tensorflow\\python\\framework\\dtypes.py:525: FutureWarning: Passing (type, 1) or '1type' as a synonym of type is deprecated; in a future version of numpy, it will be understood as (type, (1,)) / '(1,)type'.\n",
      "  np_resource = np.dtype([(\"resource\", np.ubyte, 1)])\n",
      "C:\\Users\\Lotfi\\anaconda3\\lib\\site-packages\\tensorboard\\compat\\tensorflow_stub\\dtypes.py:541: FutureWarning: Passing (type, 1) or '1type' as a synonym of type is deprecated; in a future version of numpy, it will be understood as (type, (1,)) / '(1,)type'.\n",
      "  _np_qint8 = np.dtype([(\"qint8\", np.int8, 1)])\n",
      "C:\\Users\\Lotfi\\anaconda3\\lib\\site-packages\\tensorboard\\compat\\tensorflow_stub\\dtypes.py:542: FutureWarning: Passing (type, 1) or '1type' as a synonym of type is deprecated; in a future version of numpy, it will be understood as (type, (1,)) / '(1,)type'.\n",
      "  _np_quint8 = np.dtype([(\"quint8\", np.uint8, 1)])\n",
      "C:\\Users\\Lotfi\\anaconda3\\lib\\site-packages\\tensorboard\\compat\\tensorflow_stub\\dtypes.py:543: FutureWarning: Passing (type, 1) or '1type' as a synonym of type is deprecated; in a future version of numpy, it will be understood as (type, (1,)) / '(1,)type'.\n",
      "  _np_qint16 = np.dtype([(\"qint16\", np.int16, 1)])\n",
      "C:\\Users\\Lotfi\\anaconda3\\lib\\site-packages\\tensorboard\\compat\\tensorflow_stub\\dtypes.py:544: FutureWarning: Passing (type, 1) or '1type' as a synonym of type is deprecated; in a future version of numpy, it will be understood as (type, (1,)) / '(1,)type'.\n",
      "  _np_quint16 = np.dtype([(\"quint16\", np.uint16, 1)])\n",
      "C:\\Users\\Lotfi\\anaconda3\\lib\\site-packages\\tensorboard\\compat\\tensorflow_stub\\dtypes.py:545: FutureWarning: Passing (type, 1) or '1type' as a synonym of type is deprecated; in a future version of numpy, it will be understood as (type, (1,)) / '(1,)type'.\n",
      "  _np_qint32 = np.dtype([(\"qint32\", np.int32, 1)])\n",
      "C:\\Users\\Lotfi\\anaconda3\\lib\\site-packages\\tensorboard\\compat\\tensorflow_stub\\dtypes.py:550: FutureWarning: Passing (type, 1) or '1type' as a synonym of type is deprecated; in a future version of numpy, it will be understood as (type, (1,)) / '(1,)type'.\n",
      "  np_resource = np.dtype([(\"resource\", np.ubyte, 1)])\n"
     ]
    }
   ],
   "source": [
    "import tensorflow as tf\n",
    "import numpy as np\n",
    "import pandas as pd"
   ]
  },
  {
   "cell_type": "code",
   "execution_count": 2,
   "metadata": {},
   "outputs": [
    {
     "name": "stderr",
     "output_type": "stream",
     "text": [
      "Using TensorFlow backend.\n"
     ]
    }
   ],
   "source": [
    "# Perceptron multicouche pour le problème de regression avec mse (erreur quadratique moyenne)\n",
    "from keras.optimizers import RMSprop, Adam\n",
    "from keras.models import Sequential\n",
    "from keras.layers import Dense , Dropout\n",
    "from tensorflow import keras"
   ]
  },
  {
   "cell_type": "code",
   "execution_count": 3,
   "metadata": {},
   "outputs": [],
   "source": [
    "from sklearn.model_selection import train_test_split\n",
    "from sklearn.preprocessing import StandardScaler\n",
    "# import BatchNormalization\n",
    "from keras.layers.normalization  import BatchNormalization"
   ]
  },
  {
   "cell_type": "markdown",
   "metadata": {},
   "source": [
    "Importer les précipitations de 51 stations et les 39 débits aux régulateurs."
   ]
  },
  {
   "cell_type": "code",
   "execution_count": 4,
   "metadata": {},
   "outputs": [],
   "source": [
    "import matplotlib.pyplot as plt\n",
    "preci = pd.read_excel(\"../Projet_v2/precipitations_1mois.xlsx\")\n",
    "reg = pd.read_excel(\"../Projet_v2/debit_un_mois.xlsx\")"
   ]
  },
  {
   "cell_type": "markdown",
   "metadata": {},
   "source": [
    "Partitionner les données entre observation pour apprentissage(90%), et test (10%)."
   ]
  },
  {
   "cell_type": "code",
   "execution_count": 5,
   "metadata": {},
   "outputs": [],
   "source": [
    "X_train, X_test, y_train, y_test = train_test_split(preci,reg , test_size=0.1,shuffle=False)"
   ]
  },
  {
   "cell_type": "code",
   "execution_count": 6,
   "metadata": {},
   "outputs": [
    {
     "data": {
      "text/plain": [
       "StandardScaler(copy=True, with_mean=True, with_std=True)"
      ]
     },
     "execution_count": 6,
     "metadata": {},
     "output_type": "execute_result"
    }
   ],
   "source": [
    "# Normaliser les données d'entrainement.\n",
    "# Initialiser le 'Scaler'\n",
    "scaler = StandardScaler() \n",
    "\n",
    "scaler.fit(X_train) "
   ]
  },
  {
   "cell_type": "markdown",
   "metadata": {},
   "source": [
    "<a id=\"section_I\"></a>\n",
    "### II.Entraînement d'un MLP(Perceptron multicouche)\n",
    "___\n",
    "\n",
    "<a id=\"section_II.1\"></a>\n",
    "#### II.1. Le modéle choisi"
   ]
  },
  {
   "cell_type": "code",
   "execution_count": 7,
   "metadata": {},
   "outputs": [
    {
     "name": "stderr",
     "output_type": "stream",
     "text": [
      "C:\\Users\\Lotfi\\anaconda3\\lib\\site-packages\\ipykernel_launcher.py:18: UserWarning: Update your `BatchNormalization` call to the Keras 2 API: `BatchNormalization(epsilon=1e-06, momentum=0.9, weights=None)`\n",
      "C:\\Users\\Lotfi\\anaconda3\\lib\\site-packages\\ipykernel_launcher.py:23: UserWarning: Update your `BatchNormalization` call to the Keras 2 API: `BatchNormalization(epsilon=1e-06, momentum=0.9, weights=None)`\n",
      "C:\\Users\\Lotfi\\anaconda3\\lib\\site-packages\\ipykernel_launcher.py:28: UserWarning: Update your `BatchNormalization` call to the Keras 2 API: `BatchNormalization(epsilon=1e-06, momentum=0.9, weights=None)`\n"
     ]
    },
    {
     "name": "stdout",
     "output_type": "stream",
     "text": [
      "Model: \"sequential_1\"\n",
      "_________________________________________________________________\n",
      "Layer (type)                 Output Shape              Param #   \n",
      "=================================================================\n",
      "dense_1 (Dense)              (None, 20)                1040      \n",
      "_________________________________________________________________\n",
      "dropout_1 (Dropout)          (None, 20)                0         \n",
      "_________________________________________________________________\n",
      "dense_2 (Dense)              (None, 25)                525       \n",
      "_________________________________________________________________\n",
      "dropout_2 (Dropout)          (None, 25)                0         \n",
      "_________________________________________________________________\n",
      "dense_3 (Dense)              (None, 25)                650       \n",
      "_________________________________________________________________\n",
      "dropout_3 (Dropout)          (None, 25)                0         \n",
      "_________________________________________________________________\n",
      "dense_4 (Dense)              (None, 1)                 26        \n",
      "_________________________________________________________________\n",
      "dense_5 (Dense)              (None, 64)                128       \n",
      "_________________________________________________________________\n",
      "batch_normalization_1 (Batch (None, 64)                256       \n",
      "_________________________________________________________________\n",
      "dense_6 (Dense)              (None, 32)                2080      \n",
      "_________________________________________________________________\n",
      "dropout_4 (Dropout)          (None, 32)                0         \n",
      "_________________________________________________________________\n",
      "dense_7 (Dense)              (None, 64)                2112      \n",
      "_________________________________________________________________\n",
      "batch_normalization_2 (Batch (None, 64)                256       \n",
      "_________________________________________________________________\n",
      "dense_8 (Dense)              (None, 32)                2080      \n",
      "_________________________________________________________________\n",
      "dropout_5 (Dropout)          (None, 32)                0         \n",
      "_________________________________________________________________\n",
      "dense_9 (Dense)              (None, 25)                825       \n",
      "_________________________________________________________________\n",
      "batch_normalization_3 (Batch (None, 25)                100       \n",
      "_________________________________________________________________\n",
      "dense_10 (Dense)             (None, 39)                1014      \n",
      "=================================================================\n",
      "Total params: 11,092\n",
      "Trainable params: 10,786\n",
      "Non-trainable params: 306\n",
      "_________________________________________________________________\n"
     ]
    }
   ],
   "source": [
    "# Définier le modéle\n",
    "# instantier le modéle\n",
    "# La classe Sequential est une structure, initialement vide, qui permet de définir un empilement de couches de neurones\n",
    "model = Sequential()\n",
    "\n",
    "# Ce morceau est la couche d'entrée\n",
    "model.add(Dense(20,activation='sigmoid',input_shape=(51,),kernel_initializer='he_uniform'))\n",
    "model.add(Dropout(0.3))\n",
    "\n",
    "# les couches intermédiaires \n",
    "model.add(Dense(25, activation='relu',))\n",
    "model.add(Dropout(0.3))\n",
    "model.add(Dense(25, activation='sigmoid'))\n",
    "model.add(Dropout(0.3))\n",
    "model.add(Dense(1,activation='relu'))\n",
    "\n",
    "model.add(Dense(64,  activation='sigmoid'))\n",
    "model.add(BatchNormalization(epsilon=1e-06, mode=0, momentum=0.9, weights=None))\n",
    "model.add(Dense(32, activation='relu'))\n",
    "model.add(Dropout(0.5))\n",
    " \n",
    "model.add(Dense(64, activation='sigmoid'))\n",
    "model.add(BatchNormalization(epsilon=1e-06, mode=0, momentum=0.9, weights=None))\n",
    "model.add(Dense(32, activation='relu'))\n",
    "model.add(Dropout(0.5))\n",
    "\n",
    "model.add(Dense(25, activation='sigmoid'))\n",
    "model.add(BatchNormalization(epsilon=1e-06, mode=0, momentum=0.9, weights=None))\n",
    "\n",
    "# Ce morceau est la couche de sortie . 39 car, on a 39 débits dans la sortie\n",
    "model.add(Dense(39, activation='relu'))\n",
    "model.summary()"
   ]
  },
  {
   "cell_type": "markdown",
   "metadata": {},
   "source": [
    "<a id=\"section_II.2\"></a>\n",
    "#### II.2. Fonction de perte\n",
    "\n",
    "J'ai choisi comme fonction de perte 'erreur quadratique moyenne', aussi j'ai tenté par la fonction 'erreur moyenne absolue'"
   ]
  },
  {
   "cell_type": "code",
   "execution_count": 8,
   "metadata": {},
   "outputs": [],
   "source": [
    "opt = keras.optimizers.Adam(learning_rate=0.01)\n",
    "model.compile( #loss=tf.keras.losses.MeanSquaredError(),\n",
    "              loss='mean_absolute_error',\n",
    "              optimizer=Adam(lr=1e-4),\n",
    "              metrics=['mse'])"
   ]
  },
  {
   "cell_type": "code",
   "execution_count": 9,
   "metadata": {},
   "outputs": [],
   "source": [
    "batch_size = 25\n",
    "epochs = 100"
   ]
  },
  {
   "cell_type": "code",
   "execution_count": 10,
   "metadata": {},
   "outputs": [
    {
     "name": "stdout",
     "output_type": "stream",
     "text": [
      "WARNING:tensorflow:From C:\\Users\\Lotfi\\anaconda3\\lib\\site-packages\\keras\\backend\\tensorflow_backend.py:422: The name tf.global_variables is deprecated. Please use tf.compat.v1.global_variables instead.\n",
      "\n",
      "Train on 8036 samples, validate on 893 samples\n",
      "Epoch 1/100\n",
      " - 17s - loss: 0.5246 - mse: 0.8792 - val_loss: 0.4736 - val_mse: 1.2733\n",
      "Epoch 2/100\n",
      " - 6s - loss: 0.4472 - mse: 0.7522 - val_loss: 0.4263 - val_mse: 1.1714\n",
      "Epoch 3/100\n",
      " - 5s - loss: 0.3800 - mse: 0.6445 - val_loss: 0.3602 - val_mse: 1.0461\n",
      "Epoch 4/100\n",
      " - 5s - loss: 0.2997 - mse: 0.5201 - val_loss: 0.2938 - val_mse: 0.9628\n",
      "Epoch 5/100\n",
      " - 5s - loss: 0.2443 - mse: 0.4344 - val_loss: 0.2178 - val_mse: 0.8451\n",
      "Epoch 6/100\n",
      " - 5s - loss: 0.2264 - mse: 0.4029 - val_loss: 0.2215 - val_mse: 0.8596\n",
      "Epoch 7/100\n",
      " - 5s - loss: 0.2133 - mse: 0.3922 - val_loss: 0.1924 - val_mse: 0.8146\n",
      "Epoch 8/100\n",
      " - 6s - loss: 0.2090 - mse: 0.3806 - val_loss: 0.2148 - val_mse: 0.8530\n",
      "Epoch 9/100\n",
      " - 5s - loss: 0.2024 - mse: 0.3762 - val_loss: 0.2156 - val_mse: 0.8558\n",
      "Epoch 10/100\n",
      " - 6s - loss: 0.2008 - mse: 0.3764 - val_loss: 0.2002 - val_mse: 0.8308\n",
      "Epoch 11/100\n",
      " - 6s - loss: 0.1977 - mse: 0.3698 - val_loss: 0.2006 - val_mse: 0.8321\n",
      "Epoch 12/100\n",
      " - 7s - loss: 0.1956 - mse: 0.3671 - val_loss: 0.2105 - val_mse: 0.8482\n",
      "Epoch 13/100\n",
      " - 7s - loss: 0.1906 - mse: 0.3551 - val_loss: 0.1986 - val_mse: 0.8302\n",
      "Epoch 14/100\n",
      " - 9s - loss: 0.1919 - mse: 0.3544 - val_loss: 0.1926 - val_mse: 0.8206\n",
      "Epoch 15/100\n",
      " - 9s - loss: 0.1849 - mse: 0.3439 - val_loss: 0.1868 - val_mse: 0.8128\n",
      "Epoch 16/100\n",
      " - 10s - loss: 0.1792 - mse: 0.3404 - val_loss: 0.1897 - val_mse: 0.8249\n",
      "Epoch 17/100\n",
      " - 11s - loss: 0.1737 - mse: 0.3313 - val_loss: 0.1784 - val_mse: 0.8045\n",
      "Epoch 18/100\n",
      " - 12s - loss: 0.1626 - mse: 0.3209 - val_loss: 0.1956 - val_mse: 0.8281\n",
      "Epoch 19/100\n",
      " - 10s - loss: 0.1558 - mse: 0.3168 - val_loss: 0.1931 - val_mse: 0.8263\n",
      "Epoch 20/100\n",
      " - 11s - loss: 0.1437 - mse: 0.3021 - val_loss: 0.1745 - val_mse: 0.8016\n",
      "Epoch 21/100\n",
      " - 11s - loss: 0.1354 - mse: 0.2961 - val_loss: 0.1923 - val_mse: 0.8171\n",
      "Epoch 22/100\n",
      " - 13s - loss: 0.1324 - mse: 0.2941 - val_loss: 0.1668 - val_mse: 0.7918\n",
      "Epoch 23/100\n",
      " - 12s - loss: 0.1330 - mse: 0.2953 - val_loss: 0.1774 - val_mse: 0.8025\n",
      "Epoch 24/100\n",
      " - 11s - loss: 0.1297 - mse: 0.2931 - val_loss: 0.1740 - val_mse: 0.7996\n",
      "Epoch 25/100\n",
      " - 11s - loss: 0.1267 - mse: 0.2902 - val_loss: 0.1784 - val_mse: 0.8045\n",
      "Epoch 26/100\n",
      " - 9s - loss: 0.1261 - mse: 0.2905 - val_loss: 0.1973 - val_mse: 0.8194\n",
      "Epoch 27/100\n",
      " - 9s - loss: 0.1230 - mse: 0.2869 - val_loss: 0.1717 - val_mse: 0.7979\n",
      "Epoch 28/100\n",
      " - 11s - loss: 0.1230 - mse: 0.2877 - val_loss: 0.1748 - val_mse: 0.7994\n",
      "Epoch 29/100\n",
      " - 13s - loss: 0.1217 - mse: 0.2878 - val_loss: 0.1864 - val_mse: 0.8064\n",
      "Epoch 30/100\n",
      " - 9s - loss: 0.1225 - mse: 0.2901 - val_loss: 0.1757 - val_mse: 0.8006\n",
      "Epoch 31/100\n",
      " - 10s - loss: 0.1214 - mse: 0.2875 - val_loss: 0.1945 - val_mse: 0.8126\n",
      "Epoch 32/100\n",
      " - 9s - loss: 0.1193 - mse: 0.2875 - val_loss: 0.1675 - val_mse: 0.7937\n",
      "Epoch 33/100\n",
      " - 10s - loss: 0.1180 - mse: 0.2855 - val_loss: 0.1965 - val_mse: 0.8130\n",
      "Epoch 34/100\n",
      " - 10s - loss: 0.1176 - mse: 0.2843 - val_loss: 0.1866 - val_mse: 0.8062\n",
      "Epoch 35/100\n",
      " - 10s - loss: 0.1208 - mse: 0.2897 - val_loss: 0.1869 - val_mse: 0.8061\n",
      "Epoch 36/100\n",
      " - 8s - loss: 0.1184 - mse: 0.2881 - val_loss: 0.1814 - val_mse: 0.8036\n",
      "Epoch 37/100\n",
      " - 8s - loss: 0.1175 - mse: 0.2882 - val_loss: 0.1958 - val_mse: 0.8134\n",
      "Epoch 38/100\n",
      " - 8s - loss: 0.1172 - mse: 0.2867 - val_loss: 0.1926 - val_mse: 0.8095\n",
      "Epoch 39/100\n",
      " - 9s - loss: 0.1163 - mse: 0.2867 - val_loss: 0.1704 - val_mse: 0.7949\n",
      "Epoch 40/100\n",
      " - 10s - loss: 0.1149 - mse: 0.2867 - val_loss: 0.1984 - val_mse: 0.8126\n",
      "Epoch 41/100\n",
      " - 8s - loss: 0.1151 - mse: 0.2854 - val_loss: 0.1755 - val_mse: 0.7966\n",
      "Epoch 42/100\n",
      " - 8s - loss: 0.1137 - mse: 0.2843 - val_loss: 0.1900 - val_mse: 0.8057\n",
      "Epoch 43/100\n",
      " - 7s - loss: 0.1127 - mse: 0.2819 - val_loss: 0.1812 - val_mse: 0.7988\n",
      "Epoch 44/100\n",
      " - 7s - loss: 0.1113 - mse: 0.2803 - val_loss: 0.2075 - val_mse: 0.8112\n",
      "Epoch 45/100\n",
      " - 7s - loss: 0.1106 - mse: 0.2806 - val_loss: 0.1763 - val_mse: 0.7948\n",
      "Epoch 46/100\n",
      " - 7s - loss: 0.1104 - mse: 0.2796 - val_loss: 0.1791 - val_mse: 0.7957\n",
      "Epoch 47/100\n",
      " - 7s - loss: 0.1099 - mse: 0.2790 - val_loss: 0.1793 - val_mse: 0.7942\n",
      "Epoch 48/100\n",
      " - 7s - loss: 0.1089 - mse: 0.2776 - val_loss: 0.1804 - val_mse: 0.7951\n",
      "Epoch 49/100\n",
      " - 7s - loss: 0.1085 - mse: 0.2777 - val_loss: 0.1804 - val_mse: 0.7949\n",
      "Epoch 50/100\n",
      " - 7s - loss: 0.1081 - mse: 0.2764 - val_loss: 0.1770 - val_mse: 0.7936\n",
      "Epoch 51/100\n",
      " - 7s - loss: 0.1073 - mse: 0.2760 - val_loss: 0.1717 - val_mse: 0.7914\n",
      "Epoch 52/100\n",
      " - 7s - loss: 0.1069 - mse: 0.2752 - val_loss: 0.1711 - val_mse: 0.7913\n",
      "Epoch 53/100\n",
      " - 8s - loss: 0.1062 - mse: 0.2742 - val_loss: 0.1700 - val_mse: 0.7910\n",
      "Epoch 54/100\n",
      " - 10s - loss: 0.1062 - mse: 0.2744 - val_loss: 0.1737 - val_mse: 0.7918\n",
      "Epoch 55/100\n",
      " - 10s - loss: 0.1068 - mse: 0.2764 - val_loss: 0.1662 - val_mse: 0.7896\n",
      "Epoch 56/100\n",
      " - 9s - loss: 0.1061 - mse: 0.2756 - val_loss: 0.1724 - val_mse: 0.7912\n",
      "Epoch 57/100\n",
      " - 8s - loss: 0.1059 - mse: 0.2753 - val_loss: 0.1681 - val_mse: 0.7909\n",
      "Epoch 58/100\n",
      " - 7s - loss: 0.1060 - mse: 0.2760 - val_loss: 0.1748 - val_mse: 0.7948\n",
      "Epoch 59/100\n",
      " - 6s - loss: 0.1052 - mse: 0.2739 - val_loss: 0.1756 - val_mse: 0.7949\n",
      "Epoch 60/100\n",
      " - 7s - loss: 0.1049 - mse: 0.2735 - val_loss: 0.1752 - val_mse: 0.7951\n",
      "Epoch 61/100\n",
      " - 6s - loss: 0.1051 - mse: 0.2748 - val_loss: 0.1714 - val_mse: 0.7928\n",
      "Epoch 62/100\n",
      " - 6s - loss: 0.1049 - mse: 0.2737 - val_loss: 0.1738 - val_mse: 0.7948\n",
      "Epoch 63/100\n",
      " - 6s - loss: 0.1048 - mse: 0.2740 - val_loss: 0.1789 - val_mse: 0.7976\n",
      "Epoch 64/100\n",
      " - 7s - loss: 0.1042 - mse: 0.2730 - val_loss: 0.1669 - val_mse: 0.7922\n",
      "Epoch 65/100\n",
      " - 6s - loss: 0.1039 - mse: 0.2719 - val_loss: 0.1728 - val_mse: 0.7959\n",
      "Epoch 66/100\n",
      " - 7s - loss: 0.1042 - mse: 0.2727 - val_loss: 0.1736 - val_mse: 0.7961\n",
      "Epoch 67/100\n",
      " - 6s - loss: 0.1039 - mse: 0.2723 - val_loss: 0.1726 - val_mse: 0.7958\n",
      "Epoch 68/100\n",
      " - 7s - loss: 0.1048 - mse: 0.2734 - val_loss: 0.1637 - val_mse: 0.7910\n",
      "Epoch 69/100\n",
      " - 6s - loss: 0.1046 - mse: 0.2737 - val_loss: 0.1693 - val_mse: 0.7948\n",
      "Epoch 70/100\n",
      " - 7s - loss: 0.1042 - mse: 0.2725 - val_loss: 0.1678 - val_mse: 0.7937\n",
      "Epoch 71/100\n",
      " - 7s - loss: 0.1044 - mse: 0.2738 - val_loss: 0.1682 - val_mse: 0.7945\n",
      "Epoch 72/100\n",
      " - 6s - loss: 0.1044 - mse: 0.2734 - val_loss: 0.1684 - val_mse: 0.7962\n",
      "Epoch 73/100\n",
      " - 6s - loss: 0.1048 - mse: 0.2746 - val_loss: 0.1652 - val_mse: 0.7938\n",
      "Epoch 74/100\n",
      " - 7s - loss: 0.1043 - mse: 0.2732 - val_loss: 0.1680 - val_mse: 0.7968\n",
      "Epoch 75/100\n",
      " - 6s - loss: 0.1039 - mse: 0.2730 - val_loss: 0.1713 - val_mse: 0.7999\n",
      "Epoch 76/100\n",
      " - 7s - loss: 0.1040 - mse: 0.2727 - val_loss: 0.1664 - val_mse: 0.7952\n",
      "Epoch 77/100\n",
      " - 7s - loss: 0.1039 - mse: 0.2729 - val_loss: 0.1703 - val_mse: 0.7986\n",
      "Epoch 78/100\n",
      " - 6s - loss: 0.1041 - mse: 0.2733 - val_loss: 0.1669 - val_mse: 0.7971\n",
      "Epoch 79/100\n",
      " - 6s - loss: 0.1037 - mse: 0.2721 - val_loss: 0.1726 - val_mse: 0.8027\n",
      "Epoch 80/100\n",
      " - 6s - loss: 0.1037 - mse: 0.2729 - val_loss: 0.1693 - val_mse: 0.7994\n",
      "Epoch 81/100\n",
      " - 6s - loss: 0.1034 - mse: 0.2714 - val_loss: 0.1710 - val_mse: 0.8017\n",
      "Epoch 82/100\n",
      " - 6s - loss: 0.1035 - mse: 0.2720 - val_loss: 0.1679 - val_mse: 0.7992\n",
      "Epoch 83/100\n",
      " - 5s - loss: 0.1032 - mse: 0.2711 - val_loss: 0.1658 - val_mse: 0.7976\n",
      "Epoch 84/100\n",
      " - 5s - loss: 0.1031 - mse: 0.2709 - val_loss: 0.1725 - val_mse: 0.8056\n",
      "Epoch 85/100\n",
      " - 5s - loss: 0.1028 - mse: 0.2701 - val_loss: 0.1652 - val_mse: 0.7978\n",
      "Epoch 86/100\n",
      " - 5s - loss: 0.1031 - mse: 0.2708 - val_loss: 0.1631 - val_mse: 0.7939\n",
      "Epoch 87/100\n",
      " - 5s - loss: 0.1033 - mse: 0.2710 - val_loss: 0.1652 - val_mse: 0.7966\n",
      "Epoch 88/100\n",
      " - 5s - loss: 0.1029 - mse: 0.2703 - val_loss: 0.1645 - val_mse: 0.7962\n",
      "Epoch 89/100\n",
      " - 5s - loss: 0.1029 - mse: 0.2701 - val_loss: 0.1708 - val_mse: 0.8028\n",
      "Epoch 90/100\n",
      " - 5s - loss: 0.1031 - mse: 0.2712 - val_loss: 0.1620 - val_mse: 0.7931\n",
      "Epoch 91/100\n",
      " - 5s - loss: 0.1028 - mse: 0.2698 - val_loss: 0.1635 - val_mse: 0.7950\n",
      "Epoch 92/100\n",
      " - 5s - loss: 0.1026 - mse: 0.2699 - val_loss: 0.1677 - val_mse: 0.8004\n",
      "Epoch 93/100\n",
      " - 5s - loss: 0.1028 - mse: 0.2701 - val_loss: 0.1650 - val_mse: 0.7974\n",
      "Epoch 94/100\n",
      " - 5s - loss: 0.1029 - mse: 0.2705 - val_loss: 0.1685 - val_mse: 0.8014\n"
     ]
    },
    {
     "name": "stdout",
     "output_type": "stream",
     "text": [
      "Epoch 95/100\n",
      " - 6s - loss: 0.1028 - mse: 0.2705 - val_loss: 0.1665 - val_mse: 0.7988\n",
      "Epoch 96/100\n",
      " - 5s - loss: 0.1031 - mse: 0.2705 - val_loss: 0.1672 - val_mse: 0.7991\n",
      "Epoch 97/100\n",
      " - 5s - loss: 0.1029 - mse: 0.2701 - val_loss: 0.1677 - val_mse: 0.8001\n",
      "Epoch 98/100\n",
      " - 5s - loss: 0.1027 - mse: 0.2694 - val_loss: 0.1632 - val_mse: 0.7949\n",
      "Epoch 99/100\n",
      " - 5s - loss: 0.1028 - mse: 0.2702 - val_loss: 0.1626 - val_mse: 0.7938\n",
      "Epoch 100/100\n",
      " - 4s - loss: 0.1024 - mse: 0.2687 - val_loss: 0.1633 - val_mse: 0.7932\n"
     ]
    }
   ],
   "source": [
    "history = model.fit(X_train, y_train,\n",
    "                    batch_size=batch_size,\n",
    "                    epochs=epochs,\n",
    "                    verbose=2,\n",
    "                    validation_data = (X_test, y_test))"
   ]
  },
  {
   "cell_type": "markdown",
   "metadata": {},
   "source": [
    "<a id=\"section_III\"></a>\n",
    "#### III.Résultat sur toute la base de données de test\n",
    "\n",
    "\n",
    "La figure suivante présente la fonction de perte pour l'ensemble d'entraînement et l'ensemble de test en fonction de nombre d'itération pour les 39 débits. "
   ]
  },
  {
   "cell_type": "code",
   "execution_count": 11,
   "metadata": {},
   "outputs": [
    {
     "data": {
      "image/png": "[encoded data removed]",
      "text/plain": [
       "<Figure size 432x288 with 1 Axes>"
      ]
     },
     "metadata": {
      "needs_background": "light"
     },
     "output_type": "display_data"
    }
   ],
   "source": [
    "plt.plot(history.history['loss'], label='Entraînement')\n",
    "plt.plot(history.history['val_loss'], label='Validation')\n",
    "plt.legend()\n",
    "plt.xlabel('Nombre d\\'itération')\n",
    "plt.ylabel('Fonction de perte')\n",
    "plt.savefig('Debits_loss_function.png')"
   ]
  },
  {
   "cell_type": "code",
   "execution_count": 12,
   "metadata": {},
   "outputs": [
    {
     "name": "stdout",
     "output_type": "stream",
     "text": [
      "Test loss: 0.16332518551728092\n"
     ]
    }
   ],
   "source": [
    "# Taux d'erreur.\n",
    "score = model.evaluate(X_test, y_test, verbose=0)\n",
    "print('Test loss:', score[0])\n"
   ]
  },
  {
   "cell_type": "markdown",
   "metadata": {},
   "source": [
    "<a id=\"section_IV\"></a>\n",
    "#### IV. Prediction, Comparaison entre modele observé et prédit\n",
    "\n"
   ]
  },
  {
   "cell_type": "code",
   "execution_count": 13,
   "metadata": {},
   "outputs": [],
   "source": [
    "prediction= model.predict(X_test)"
   ]
  },
  {
   "cell_type": "markdown",
   "metadata": {},
   "source": [
    "<a id=\"section_IV.1\"></a>\n",
    "#### IV.1. Méthode 1: Coefficient d'efficacité de Nash–Sutcliffe\n",
    "\n",
    "On calcule la valeur moyenne de l'ensemble de test pour chaque débits"
   ]
  },
  {
   "cell_type": "code",
   "execution_count": 14,
   "metadata": {},
   "outputs": [],
   "source": [
    "mean_list = np.ones(39)\n",
    "liste = np.ones(39)\n",
    "for j in range(39) : \n",
    "    \n",
    "    for i in range(len(y_test)) :\n",
    "        liste[j] = liste[j]  + np.array(y_test)[i][j]\n",
    "        \n",
    "    mean_list[j] = liste[j]/len(y_test)\n",
    "    "
   ]
  },
  {
   "cell_type": "markdown",
   "metadata": {},
   "source": [
    "On utilise cette formule pour calculer le coefficient d'efficacité de Nash-Sutcliffe .\n",
    "\n",
    "$$ \\text{NSE}  = 1 - \\frac{\\sum_{n=1}^{m} |Q_m - Q_o|}{\\sum_{n=1}^{m} |Q_{mean} - Q_o| }.$$"
   ]
  },
  {
   "cell_type": "code",
   "execution_count": 15,
   "metadata": {},
   "outputs": [
    {
     "data": {
      "text/plain": [
       "array([-0.09824571, -0.17672677,  0.20560234,  0.12084552,  0.12755587,\n",
       "        0.30714783, -0.01249253,  0.35173044,  0.14290958,  0.38021443,\n",
       "        0.39614961,  0.12027763,  0.26637631,  0.30383218,  0.35234891,\n",
       "        0.02519994,  0.0064199 ,  0.29024208,  0.08097208,  0.23905475,\n",
       "        0.19751807,  0.25022761, -0.02217815,  0.01966847,  0.3305649 ,\n",
       "       -0.08069754,  0.00205176,  0.37315667, -0.01069939,  0.06402157,\n",
       "       -0.18635096,  0.2210678 , -0.20009496, -0.85200312,  0.3372323 ,\n",
       "       -0.98206188,  0.30403364, -0.01125639,  0.09250941])"
      ]
     },
     "execution_count": 15,
     "metadata": {},
     "output_type": "execute_result"
    }
   ],
   "source": [
    "err1 = np.ones(len(y_test))\n",
    "err2 = np.ones(len(y_test))\n",
    "NSE = np.ones(39)\n",
    "\n",
    "for j in range(39) : \n",
    "    err1 = np.ones(len(y_test))\n",
    "    err2 = np.ones(len(y_test))\n",
    "    for i in range(len(y_test)) :\n",
    "             err1[i] = abs(prediction[i][j] - np.array(y_test)[i][j])\n",
    "             err2[i] = abs(mean_list[j] - np.array(y_test)[i][j])           \n",
    "    NSE[j] = 1- (sum(err1)/sum(err2))\n",
    "NSE"
   ]
  },
  {
   "cell_type": "markdown",
   "metadata": {},
   "source": [
    "<a id=\"section_IV.2\"></a>\n",
    "#### IV.2. Méthode 2: L'erreur relative\n",
    "\n",
    "On calcule l'erreur relative pour les 39 débits qu'on a."
   ]
  },
  {
   "cell_type": "code",
   "execution_count": 16,
   "metadata": {},
   "outputs": [
    {
     "data": {
      "text/plain": [
       "array([  6.39742064,  75.85969112,  47.84535507,  16.72628931,\n",
       "         9.8705075 , 112.66999629,  15.60893661,  15.63067233,\n",
       "        45.86766002,  31.65603282,  13.10174257,  12.39954518,\n",
       "        21.3320955 ,  40.13296765,  18.24759808,  17.91276571,\n",
       "        22.98053656,  26.76100189,  25.04163798,  36.27797192,\n",
       "        51.84361907,  21.78853694,  12.13429883,  90.15477909,\n",
       "        20.03973752,  10.22631222,  13.05045247,  26.35859017,\n",
       "         3.685622  , 170.64656224,  42.90798999,  26.173523  ,\n",
       "        51.22994561,  66.35847056,  47.61622458,  43.12584508,\n",
       "        10.31308391,  19.65830736,  12.52930043])"
      ]
     },
     "execution_count": 16,
     "metadata": {},
     "output_type": "execute_result"
    }
   ],
   "source": [
    "err1 = np.ones(len(y_test))\n",
    "er2 = np.ones(len(y_test))\n",
    "erreur_relative = np.ones(39)\n",
    "\n",
    "for j in range(39) : \n",
    "    err1 = np.ones(len(y_test))\n",
    "    for i in range(len(y_test)) :\n",
    "             err1[i] = (abs(prediction[i][j] - np.array(y_test)[i][j])/np.array(y_test)[i][j])*100\n",
    "             \n",
    "    erreur_relative[j] = sum(err1)/len(err1)\n",
    "\n",
    "\n",
    "erreur_relative"
   ]
  },
  {
   "cell_type": "markdown",
   "metadata": {},
   "source": [
    "Lorsqu'on change le modéle je fais une comparaison entre le résultat précedent et celui que je obtient."
   ]
  },
  {
   "cell_type": "code",
   "execution_count": 17,
   "metadata": {},
   "outputs": [
    {
     "data": {
      "text/plain": [
       "array([ 4.22358475e+00, -4.98561451e+01,  8.09314439e-01, -5.68319693e+00,\n",
       "       -1.48393711e-01, -1.72814664e-01,  2.50962621e-01, -4.24245930e+00,\n",
       "       -4.22828907e+00,  2.13883275e+00, -6.72923673e-01,  7.24701460e-02,\n",
       "        8.57986138e-01, -1.84697432e+01, -1.12161555e+00,  1.05402585e+00,\n",
       "        2.78626019e-02,  4.07559442e+00, -2.99539494e-01, -1.04503364e+01,\n",
       "        2.09520725e+00, -4.52119047e-01,  4.97231163e-01, -1.03470034e-01,\n",
       "       -1.09353698e+00, -7.75903054e-01, -4.04523355e-01, -9.25416634e+00,\n",
       "        2.06078150e-01, -2.98907676e-01,  4.91004172e+00,  5.11690198e+00,\n",
       "       -1.39427225e+01,  1.27543378e+01, -6.04508147e+00, -1.62248849e+01,\n",
       "        2.68270468e+00, -9.05357152e-01,  3.49929363e-01])"
      ]
     },
     "execution_count": 17,
     "metadata": {},
     "output_type": "execute_result"
    }
   ],
   "source": [
    "np.array([ 10.62100539,  26.00354604,  48.65466951,  11.04309238,\n",
    "         9.72211379, 112.49718163,  15.85989923,  11.38821303,\n",
    "        41.63937095,  33.79486557,  12.4288189 ,  12.47201533,\n",
    "        22.19008164,  21.66322445,  17.12598253,  18.96679156,\n",
    "        23.00839916,  30.83659631,  24.74209849,  25.82763554,\n",
    "        53.93882632,  21.33641789,  12.63152999,  90.05130906,\n",
    "        18.94620054,   9.45040917,  12.64592912,  17.10442383,\n",
    "         3.89170015, 170.34765456,  47.81803171,  31.29042498,\n",
    "        37.28722315,  79.11280834,  41.57114311,  26.90096023,\n",
    "        12.99578859,  18.75295021,  12.87922979])-erreur_relative"
   ]
  },
  {
   "cell_type": "code",
   "execution_count": 18,
   "metadata": {},
   "outputs": [
    {
     "data": {
      "text/plain": [
       "array([-0.62829508,  0.28335434,  0.18779448,  0.33782016,  0.1249792 ,\n",
       "        0.29433453,  0.01231429,  0.4046658 ,  0.17611612,  0.37583263,\n",
       "        0.40083594,  0.12268659,  0.26883655,  0.37885868,  0.3525721 ,\n",
       "        0.01069153, -0.02759351,  0.28135892,  0.13618954,  0.34171538,\n",
       "        0.21369211,  0.28653572, -0.03382895,  0.0136766 ,  0.36633669,\n",
       "        0.02398438,  0.04835651,  0.40538966, -0.0461383 ,  0.07482297,\n",
       "       -0.26762832,  0.19507482,  0.16545673, -1.0265248 ,  0.34273375,\n",
       "        0.00650631,  0.2801617 , -0.00159928,  0.09311947])"
      ]
     },
     "execution_count": 18,
     "metadata": {},
     "output_type": "execute_result"
    }
   ],
   "source": [
    "np.array([-0.62829508,  0.28335434,  0.18779448,  0.33782016,  0.1249792 ,\n",
    "        0.29433453,  0.01231429,  0.4046658 ,  0.17611612,  0.37583263,\n",
    "        0.40083594,  0.12268659,  0.26883655,  0.37885868,  0.3525721 ,\n",
    "        0.01069153, -0.02759351,  0.28135892,  0.13618954,  0.34171538,\n",
    "        0.21369211,  0.28653572, -0.03382895,  0.0136766 ,  0.36633669,\n",
    "        0.02398438,  0.04835651,  0.40538966, -0.0461383 ,  0.07482297,\n",
    "       -0.26762832,  0.19507482,  0.16545673, -1.0265248 ,  0.34273375,\n",
    "        0.00650631,  0.2801617 , -0.00159928,  0.09311947])"
   ]
  },
  {
   "cell_type": "code",
   "execution_count": 20,
   "metadata": {},
   "outputs": [
    {
     "data": {
      "image/png": "[encoded data removed]",
      "text/plain": [
       "<Figure size 1080x360 with 1 Axes>"
      ]
     },
     "metadata": {
      "needs_background": "light"
     },
     "output_type": "display_data"
    }
   ],
   "source": [
    "\n",
    "fig, axes = plt.subplots(figsize=(15,5))\n",
    "#raitement direct d'un fichier Excel\n",
    "\n",
    "df = pd.read_excel(\"../Projet_v2/Predit_en_fct_reel.xlsx\")\n",
    "\n",
    "plt.plot(df['date'],prediction)\n",
    "plt.plot(df['date'], y_test)\n",
    "plt.xlabel(\"Date\")\n",
    "plt.ylabel(\"Débit\")\n",
    "plt.title(\"Débit obsevé et prédit en fonction du temps\")\n",
    "plt.legend(['Débit prédit', 'Débit observé'])\n",
    "plt.savefig('Debit_reel_observe_39.png')"
   ]
  },
  {
   "cell_type": "markdown",
   "metadata": {},
   "source": [
    "<a id=\"section_V.\"></a>\n",
    "#### V. Références\n",
    "(1) : https://keras.io/examples/vision/visualizing_what_convnets_learn\n",
    "\n",
    "(2) : https://colab.research.google.com/drive/\n",
    "\n",
    "(3) : https://www.tutorialspoint.com/keras/index.htm\n",
    "\n",
    "(4) : https://keras.io/examples/vision/\n"
   ]
  },
  {
   "cell_type": "code",
   "execution_count": null,
   "metadata": {},
   "outputs": [],
   "source": []
  }
 ],
 "metadata": {
  "kernelspec": {
   "display_name": "Python 3",
   "language": "python",
   "name": "python3"
  },
  "language_info": {
   "codemirror_mode": {
    "name": "ipython",
    "version": 3
   },
   "file_extension": ".py",
   "mimetype": "text/x-python",
   "name": "python",
   "nbconvert_exporter": "python",
   "pygments_lexer": "ipython3",
   "version": "3.7.6"
  }
 },
 "nbformat": 4,
 "nbformat_minor": 4
}
